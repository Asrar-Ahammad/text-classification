version https://git-lfs.github.com/spec/v1
oid sha256:d5c8012bd15ee48b22cacac3b2de6f53af62a18064c10ae05b22f045c40a1d05
size 32092
