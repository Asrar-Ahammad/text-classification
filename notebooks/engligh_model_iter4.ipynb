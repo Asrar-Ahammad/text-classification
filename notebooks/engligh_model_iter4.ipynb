{
 "cells": [
  {
   "cell_type": "code",
   "execution_count": 1,
   "id": "9eccb802",
   "metadata": {},
   "outputs": [
    {
     "name": "stderr",
     "output_type": "stream",
     "text": [
      "/Users/shaikmohammadasrarahammad/Downloads/Crescent_subjects/sem8/text_classification/env/lib/python3.10/site-packages/tqdm/auto.py:21: TqdmWarning: IProgress not found. Please update jupyter and ipywidgets. See https://ipywidgets.readthedocs.io/en/stable/user_install.html\n",
      "  from .autonotebook import tqdm as notebook_tqdm\n"
     ]
    }
   ],
   "source": [
    "import torch\n",
    "import torch.utils.data\n",
    "import transformers.models.albert.modeling_albert\n",
    "from transformers import BertTokenizer, BertForSequenceClassification, AdamW\n",
    "from torch.utils.data import DataLoader, Dataset\n",
    "from sklearn.model_selection import train_test_split\n",
    "from sklearn.metrics import accuracy_score\n",
    "import numpy as np"
   ]
  },
  {
   "cell_type": "code",
   "execution_count": 2,
   "id": "d582dc9d",
   "metadata": {},
   "outputs": [],
   "source": [
    "class EnglishTextDataset(Dataset):\n",
    "    def __init__(self, texts, labels, tokenizer, max_length):\n",
    "        self.texts = texts\n",
    "        self.labels = labels\n",
    "        self.tokenizer = tokenizer\n",
    "        self.max_length = max_length\n",
    "\n",
    "    def __len__(self):\n",
    "        return len(self.texts)\n",
    "    \n",
    "    import torch\n",
    "import torch.nn.functional as F\n",
    "\n",
    "class EnglishTextDataset(Dataset):\n",
    "    def __init__(self, texts, labels, tokenizer, max_length):\n",
    "        self.texts = texts\n",
    "        self.labels = labels\n",
    "        self.tokenizer = tokenizer\n",
    "        self.max_length = max_length\n",
    "\n",
    "    def __len__(self):\n",
    "        return len(self.texts)\n",
    "\n",
    "    def __getitem__(self, idx):\n",
    "        text = self.texts[idx]\n",
    "        label = self.labels[idx]\n",
    "        encoding = self.tokenizer(text, truncation=True, padding='max_length', max_length=self.max_length, return_tensors='pt')\n",
    "\n",
    "        input_ids = encoding['input_ids'].squeeze()\n",
    "        attention_mask = encoding['attention_mask'].squeeze()\n",
    "\n",
    "        # Pad sequences to max_length\n",
    "        padding_length = self.max_length - input_ids.size(0)\n",
    "        input_ids = F.pad(input_ids, (0, padding_length), value=self.tokenizer.pad_token_id)\n",
    "        attention_mask = F.pad(attention_mask, (0, padding_length), value=0)\n",
    "\n",
    "        print(\"Input Text:\", text)\n",
    "        print(\"Label:\", label)\n",
    "        print(\"Input IDs Shape:\", input_ids.shape)\n",
    "        print(\"Attention Mask Shape:\", attention_mask.shape)\n",
    "\n",
    "        return {\n",
    "            'input_ids': input_ids,\n",
    "            'attention_mask': attention_mask,\n",
    "            'label': torch.tensor(label, dtype=torch.long)\n",
    "        }\n"
   ]
  },
  {
   "cell_type": "code",
   "execution_count": 3,
   "id": "4a0e30ac",
   "metadata": {},
   "outputs": [],
   "source": [
    "class MyModelClass:\n",
    "    def __init__(self, model_name='bert-base-multilingual-cased', num_labels=2, max_length=128, batch_size=32):\n",
    "        self.tokenizer = BertTokenizer.from_pretrained(model_name)\n",
    "        self.model = BertForSequenceClassification.from_pretrained(model_name, num_labels=num_labels)\n",
    "        self.max_length = max_length\n",
    "        self.batch_size = batch_size\n",
    "        self.device = torch.device('cuda' if torch.cuda.is_available() else 'cpu')\n",
    "        self.model.to(self.device)\n",
    "\n",
    "    def prepare_data(self, texts, labels):\n",
    "        # Splitting data into training and validation sets\n",
    "        train_texts, val_texts, train_labels, val_labels = train_test_split(texts, labels, test_size=0.1, random_state=42)\n",
    "\n",
    "        # Creating datasets\n",
    "        train_dataset = EnglishTextDataset(train_texts, train_labels, self.tokenizer, self.max_length)\n",
    "        val_dataset = EnglishTextDataset(val_texts, val_labels, self.tokenizer, self.max_length)\n",
    "\n",
    "        # Creating data loaders\n",
    "        self.train_loader = DataLoader(train_dataset, batch_size=self.batch_size, shuffle=True)\n",
    "        self.val_loader = DataLoader(val_dataset, batch_size=self.batch_size, shuffle=False)\n",
    "\n",
    "    def train(self, num_epochs=6):\n",
    "        optimizer = AdamW(self.model.parameters(), lr=2e-5)\n",
    "\n",
    "        for epoch in range(num_epochs):\n",
    "            self.model.train()\n",
    "            for batch in self.train_loader:\n",
    "                input_ids = batch['input_ids'].to(self.device)\n",
    "                attention_mask = batch['attention_mask'].to(self.device)\n",
    "                labels = batch['label'].to(self.device)\n",
    "\n",
    "                optimizer.zero_grad()\n",
    "                outputs = self.model(input_ids, attention_mask=attention_mask, labels=labels)\n",
    "                loss = outputs.loss\n",
    "                loss.backward()\n",
    "                optimizer.step()\n",
    "\n",
    "            print(f'Epoch {epoch+1}/{num_epochs} completed.')\n",
    "\n",
    "            self.evaluate()\n",
    "\n",
    "    def evaluate(self):\n",
    "        self.model.eval()\n",
    "        val_preds, val_labels = [], []\n",
    "\n",
    "        for batch in self.val_loader:\n",
    "            input_ids = batch['input_ids'].to(self.device)\n",
    "            attention_mask = batch['attention_mask'].to(self.device)\n",
    "            labels = batch['label'].to(self.device)\n",
    "\n",
    "            with torch.no_grad():\n",
    "                outputs = self.model(input_ids, attention_mask=attention_mask)\n",
    "                logits = outputs.logits\n",
    "                preds = torch.argmax(logits, dim=1).cpu().numpy()\n",
    "                val_preds.extend(preds)\n",
    "                val_labels.extend(labels.cpu().numpy())\n",
    "\n",
    "        val_acc = accuracy_score(val_labels, val_preds)\n",
    "        print(f'Validation Accuracy: {val_acc}')\n",
    "    def classify_text(self, text):\n",
    "        encoded_text = self.tokenizer(text, truncation=True, padding='max_length', max_length=self.max_length, return_tensors='pt')\n",
    "        input_ids = encoded_text['input_ids'].to(self.device)\n",
    "        attention_mask = encoded_text['attention_mask'].to(self.device)\n",
    "        \n",
    "        with torch.no_grad():\n",
    "            outputs = self.model(input_ids, attention_mask=attention_mask)\n",
    "            logits = outputs.logits\n",
    "            prediction = torch.argmax(logits, dim=1).item()\n",
    "            return \"Human-written\" if prediction == 0 else \"AI-generated\"\n",
    "    def save_model(self, path):\n",
    "        torch.save(self.model.state_dict(), path)\n",
    "        print(f'Model saved to {path}')\n",
    "    def load_model(self, path='eng_model.pth'):\n",
    "        self.model.load_state_dict(torch.load(path, map_location=self.device))\n",
    "        self.model.to(self.device)  # Ensure the model is on the correct device\n",
    "        print(f'Model loaded from {path}')\n",
    "    def eval(self):\n",
    "        \"\"\"Sets the model to evaluation mode.\"\"\"\n",
    "        self.model.eval()"
   ]
  },
  {
   "cell_type": "code",
   "execution_count": 4,
   "id": "d9543e89",
   "metadata": {},
   "outputs": [],
   "source": [
    "import pandas as pd"
   ]
  },
  {
   "cell_type": "code",
   "execution_count": 26,
   "id": "d1ad1b12",
   "metadata": {},
   "outputs": [],
   "source": [
    "df = pd.read_csv(\"../data/ETrain.csv\")"
   ]
  },
  {
   "cell_type": "code",
   "execution_count": 27,
   "id": "e962f321",
   "metadata": {},
   "outputs": [
    {
     "data": {
      "text/plain": [
       "(61969, 3)"
      ]
     },
     "execution_count": 27,
     "metadata": {},
     "output_type": "execute_result"
    }
   ],
   "source": [
    "df.shape"
   ]
  },
  {
   "cell_type": "code",
   "execution_count": 28,
   "id": "b82593aa",
   "metadata": {},
   "outputs": [
    {
     "data": {
      "text/html": [
       "<div>\n",
       "<style scoped>\n",
       "    .dataframe tbody tr th:only-of-type {\n",
       "        vertical-align: middle;\n",
       "    }\n",
       "\n",
       "    .dataframe tbody tr th {\n",
       "        vertical-align: top;\n",
       "    }\n",
       "\n",
       "    .dataframe thead th {\n",
       "        text-align: right;\n",
       "    }\n",
       "</style>\n",
       "<table border=\"1\" class=\"dataframe\">\n",
       "  <thead>\n",
       "    <tr style=\"text-align: right;\">\n",
       "      <th></th>\n",
       "      <th>Unnamed: 0</th>\n",
       "      <th>text</th>\n",
       "      <th>generated</th>\n",
       "    </tr>\n",
       "  </thead>\n",
       "  <tbody>\n",
       "    <tr>\n",
       "      <th>0</th>\n",
       "      <td>0</td>\n",
       "      <td>Cars. Cars have been around since they became ...</td>\n",
       "      <td>0</td>\n",
       "    </tr>\n",
       "    <tr>\n",
       "      <th>1</th>\n",
       "      <td>1</td>\n",
       "      <td>Transportation is a large necessity in most co...</td>\n",
       "      <td>0</td>\n",
       "    </tr>\n",
       "    <tr>\n",
       "      <th>2</th>\n",
       "      <td>2</td>\n",
       "      <td>\"America's love affair with it's vehicles seem...</td>\n",
       "      <td>0</td>\n",
       "    </tr>\n",
       "    <tr>\n",
       "      <th>3</th>\n",
       "      <td>3</td>\n",
       "      <td>How often do you ride in a car? Do you drive a...</td>\n",
       "      <td>0</td>\n",
       "    </tr>\n",
       "    <tr>\n",
       "      <th>4</th>\n",
       "      <td>4</td>\n",
       "      <td>Cars are a wonderful thing. They are perhaps o...</td>\n",
       "      <td>0</td>\n",
       "    </tr>\n",
       "  </tbody>\n",
       "</table>\n",
       "</div>"
      ],
      "text/plain": [
       "   Unnamed: 0                                               text  generated\n",
       "0           0  Cars. Cars have been around since they became ...          0\n",
       "1           1  Transportation is a large necessity in most co...          0\n",
       "2           2  \"America's love affair with it's vehicles seem...          0\n",
       "3           3  How often do you ride in a car? Do you drive a...          0\n",
       "4           4  Cars are a wonderful thing. They are perhaps o...          0"
      ]
     },
     "execution_count": 28,
     "metadata": {},
     "output_type": "execute_result"
    }
   ],
   "source": [
    "df.head()"
   ]
  },
  {
   "cell_type": "code",
   "execution_count": 29,
   "id": "532d5685",
   "metadata": {},
   "outputs": [
    {
     "data": {
      "text/plain": [
       "(61969, 3)"
      ]
     },
     "execution_count": 29,
     "metadata": {},
     "output_type": "execute_result"
    }
   ],
   "source": [
    "df.shape"
   ]
  },
  {
   "cell_type": "code",
   "execution_count": 30,
   "id": "c33d9d74",
   "metadata": {},
   "outputs": [],
   "source": [
    "label_1_data = df[df['generated'] == 1]\n",
    "label_0_data = df[df['generated'] != 1]"
   ]
  },
  {
   "cell_type": "code",
   "execution_count": 31,
   "id": "17627e24",
   "metadata": {},
   "outputs": [
    {
     "data": {
      "text/plain": [
       "(40186, 3)"
      ]
     },
     "execution_count": 31,
     "metadata": {},
     "output_type": "execute_result"
    }
   ],
   "source": [
    "label_0_data.shape"
   ]
  },
  {
   "cell_type": "code",
   "execution_count": 32,
   "id": "b1e61892",
   "metadata": {},
   "outputs": [
    {
     "data": {
      "text/plain": [
       "(21783, 3)"
      ]
     },
     "execution_count": 32,
     "metadata": {},
     "output_type": "execute_result"
    }
   ],
   "source": [
    "label_1_data.shape"
   ]
  },
  {
   "cell_type": "code",
   "execution_count": 36,
   "id": "20009365",
   "metadata": {},
   "outputs": [],
   "source": [
    "subset_label_1 = label_1_data.sample(frac=1, random_state=42)  # 50% of label 1 data\n",
    "subset_label_0 = label_0_data.sample(frac=0.5, random_state=42)"
   ]
  },
  {
   "cell_type": "code",
   "execution_count": 37,
   "id": "9c87bc87",
   "metadata": {},
   "outputs": [],
   "source": [
    "new_dataset = pd.concat([subset_label_1, subset_label_0], ignore_index=True)"
   ]
  },
  {
   "cell_type": "code",
   "execution_count": 38,
   "id": "682019d0",
   "metadata": {},
   "outputs": [
    {
     "name": "stdout",
     "output_type": "stream",
     "text": [
      "The shape of new dataset is :  (41876, 3)\n"
     ]
    }
   ],
   "source": [
    "print(\"The shape of new dataset is : \",new_dataset.shape)"
   ]
  },
  {
   "cell_type": "code",
   "execution_count": 8,
   "id": "7d7554c3",
   "metadata": {},
   "outputs": [],
   "source": [
    "# subset_df = df.iloc[45000:45500, :3]"
   ]
  },
  {
   "cell_type": "code",
   "execution_count": 39,
   "id": "b0899e1a",
   "metadata": {},
   "outputs": [],
   "source": [
    "df = new_dataset"
   ]
  },
  {
   "cell_type": "code",
   "execution_count": 40,
   "id": "576d70d5",
   "metadata": {},
   "outputs": [
    {
     "data": {
      "text/plain": [
       "generated\n",
       "1    21783\n",
       "0    20093\n",
       "Name: count, dtype: int64"
      ]
     },
     "execution_count": 40,
     "metadata": {},
     "output_type": "execute_result"
    }
   ],
   "source": [
    "df['generated'].value_counts()"
   ]
  },
  {
   "cell_type": "code",
   "execution_count": 41,
   "id": "c504e254",
   "metadata": {},
   "outputs": [],
   "source": [
    "df= df.loc[:, ['text', 'generated']]"
   ]
  },
  {
   "cell_type": "code",
   "execution_count": 43,
   "id": "66b6523c",
   "metadata": {},
   "outputs": [
    {
     "data": {
      "text/html": [
       "<div>\n",
       "<style scoped>\n",
       "    .dataframe tbody tr th:only-of-type {\n",
       "        vertical-align: middle;\n",
       "    }\n",
       "\n",
       "    .dataframe tbody tr th {\n",
       "        vertical-align: top;\n",
       "    }\n",
       "\n",
       "    .dataframe thead th {\n",
       "        text-align: right;\n",
       "    }\n",
       "</style>\n",
       "<table border=\"1\" class=\"dataframe\">\n",
       "  <thead>\n",
       "    <tr style=\"text-align: right;\">\n",
       "      <th></th>\n",
       "      <th>text</th>\n",
       "      <th>generated</th>\n",
       "    </tr>\n",
       "  </thead>\n",
       "  <tbody>\n",
       "    <tr>\n",
       "      <th>0</th>\n",
       "      <td>Standardized testing has been a controversial ...</td>\n",
       "      <td>1</td>\n",
       "    </tr>\n",
       "    <tr>\n",
       "      <th>1</th>\n",
       "      <td>Standardized testing has been widely debated a...</td>\n",
       "      <td>1</td>\n",
       "    </tr>\n",
       "    <tr>\n",
       "      <th>2</th>\n",
       "      <td>It is true that many young people today do not...</td>\n",
       "      <td>1</td>\n",
       "    </tr>\n",
       "    <tr>\n",
       "      <th>3</th>\n",
       "      <td>As an eighth-grade student, I have always been...</td>\n",
       "      <td>1</td>\n",
       "    </tr>\n",
       "    <tr>\n",
       "      <th>4</th>\n",
       "      <td>The importance of breakfast for a healthy life...</td>\n",
       "      <td>1</td>\n",
       "    </tr>\n",
       "  </tbody>\n",
       "</table>\n",
       "</div>"
      ],
      "text/plain": [
       "                                                text  generated\n",
       "0  Standardized testing has been a controversial ...          1\n",
       "1  Standardized testing has been widely debated a...          1\n",
       "2  It is true that many young people today do not...          1\n",
       "3  As an eighth-grade student, I have always been...          1\n",
       "4  The importance of breakfast for a healthy life...          1"
      ]
     },
     "execution_count": 43,
     "metadata": {},
     "output_type": "execute_result"
    }
   ],
   "source": [
    "df.head()"
   ]
  },
  {
   "cell_type": "code",
   "execution_count": 44,
   "id": "56216936",
   "metadata": {},
   "outputs": [],
   "source": [
    "texts = df['text']\n",
    "labels = df['generated']\n"
   ]
  },
  {
   "cell_type": "code",
   "execution_count": 45,
   "id": "97944861",
   "metadata": {},
   "outputs": [],
   "source": [
    "texts = texts.values"
   ]
  },
  {
   "cell_type": "code",
   "execution_count": 46,
   "id": "5a475957",
   "metadata": {},
   "outputs": [],
   "source": [
    "labels = labels.values"
   ]
  },
  {
   "cell_type": "code",
   "execution_count": 47,
   "id": "e451271d",
   "metadata": {},
   "outputs": [
    {
     "data": {
      "text/plain": [
       "array([\"Standardized testing has been a controversial topic in the educational system for a long time. While some people argue that it is an effective way to measure student ability, others claim that it is not an accurate measure. In my opinion, standardized tests are not a perfect measure of student ability.\\n\\nFirstly, these tests are often biased towards certain groups of students. For instance, students from low-income families may not have access to the same resources and opportunities as their peers from more affluent backgrounds. This means that they may not perform as well on the test, not because they are less intelligent, but because they have not had the same opportunities to prepare. Additionally, students who are English language learners may struggle with the language barrier, which can affect their performance on the test.\\n\\nSecondly, standardized tests only measure a narrow aspect of intelligence. They focus primarily on multiple-choice questions that assess memorization and basic comprehension skills. However, there are many other important skills that are not captured by these tests, such as critical thinking, creativity, and problem-solving abilities. This means that students who excel in these areas may not receive the recognition they deserve.\\n\\nFurthermore, standardized tests can be stressful and anxiety-inducing for students. The pressure to perform well can lead to mental health issues, such as anxiety and depression. This can affect students' ability to focus and learn, which can ultimately impact their academic performance.\\n\\nLastly, there are better alternatives to standardized testing. For example, project-based assessments allow students to demonstrate their knowledge and skills in a more hands-on way. This type of assessment can provide a more comprehensive picture of a student's abilities, as it takes into account their critical thinking, creativity, and problem-solving skills.\\n\\nIn conclusion, while standardized tests may have been useful in the past, they are not an accurate measure of student ability today. They are biased, narrow, stressful, and can have negative impacts on students' mental health. Therefore, it is important to consider alternative forms of assessment that can provide a more comprehensive picture of a student's abilities. By doing so, we can ensure that all students have an equal opportunity to succeed and reach their full potential.\",\n",
       "       \"Standardized testing has been widely debated among educators, policymakers, and parents. Some people argue that standardized tests are an accurate measure of student ability, while others disagree. In my opinion, standardized tests are not an accurate measure of student ability, and I will provide some reasons and examples to support my argument.\\n\\nFirstly, standardized tests only measure a student's ability to take a test. They do not account for other factors that may affect the student's performance, such as their motivation, stress level, or test-taking skills. Some students may perform poorly on standardized tests even though they are intelligent and capable of succeeding in school. Therefore, standardized tests do not give a comprehensive picture of a student's abilities.\\n\\nSecondly, standardized tests often do not reflect the diversity of learning styles and backgrounds that exist among students. Many students come from different cultural, linguistic, and socioeconomic backgrounds, and they have varying learning styles. Standardized tests do not take these differences into account, which can result in some students being unfairly disadvantaged. For example, English language learners may struggle with standardized tests because they are not yet proficient in English.\\n\\nLastly, standardized tests can have negative impacts on students' motivation and engagement with learning. When students are taught to focus solely on test preparation, they may become disengaged with the learning process and lose interest in their subjects. This can be particularly damaging for students who may already struggle with motivation or who are not interested in the subjects being tested.\\n\\nIn conclusion, standardized tests are not an accurate measure of student ability. They only provide a narrow perspective of a student's performance and do not account for the diversity of learning styles and backgrounds that exist among students. Moreover, they can have negative impacts on students' motivation and engagement with learning. Therefore, educators and policymakers should consider alternative forms of assessment that provide a more comprehensive evaluation of student ability and potential for success.\",\n",
       "       'It is true that many young people today do not give enough time to helping their communities. However, there are also many young people who are actively involved in their communities.\\n\\nThere are several reasons why young people may not be as involved in their communities as older generations. One reason is that young people are busy with their own lives. They are in school, working, and trying to establish themselves. They may not have the time or energy to volunteer or participate in community events.\\n\\nAnother reason is that young people may not feel connected to their communities. They may not know many people in their communities, or they may not feel like they belong. This can be especially true for young people who move around a lot.\\n\\nFinally, some young people may not feel like they can make a difference. They may feel that their contributions won’t matter or that they don’t have the skills to make a difference.\\n\\nDespite these reasons, there are many young people who are active in their communities. There are many ways for young people to get involved, including volunteering, attending community events, and voting.\\n\\nVolunteering is a great way for young people to make a difference. There are many opportunities for young people to volunteer, including local food banks, animal shelters, and schools. Volunteering can be a great way to meet people in your community, and it can help you learn new skills.\\n\\nAttending community events is another way for young people to get involved. Community events can include concerts, festivals, and meetings. Attending these events can help you learn more about your community and meet new people.\\n\\nVoting is another important way for young people to get involved in their communities. Voting allows young people to have a say in the decisions that affect their communities. Voting also helps young people learn about the democratic process.\\n\\nDespite the reasons why young people may not be as involved in their communities, there are many ways for them to get involved. Young people who are interested in getting involved should explore the options that are available to them.\\n\\n',\n",
       "       ...,\n",
       "       \"The author has great supports about why we should study the planet of Venus. He called it Earth's twin. He stated that Venus is the closest planet to be comapred to Earth. The author states that blimp-like vehicles would help with the study of Venus.\\n\\nThe author said Venus is Earth's twin because it's the closest planet to have the same density and size as Earth. The author states that we could use blimp-like vehicles to not get burnt or crushed because if the vehicle gets 30 or so miles above the roiling Venusian landscape everything would change. The temperature would drop from about 800 degress to 170 degress Fahrenheit. The atmospheric pressure would drop from 90 times greater than earths surface to about Earth's sea level if the vehicle were to be 30 miles or so above the surface.\\n\\nAll you need to know why we need to study Venus more is all here. Venus is basically Earth's twin so why not study it more. Venus is the closet planet to be compared to Earth with its size and density. Blimp-like vehicles would help with it's flight to 30 miles or so. It would help with the temperature and the atmospheric pressure. Do you have anything to debate about these facts?\",\n",
       "       \"Dear TEACHER_NAME,\\n\\nHaving students do public community service is a great way for them to share there time to other and the state, to show that they care about what they are living for and what they are capable of doing.\\n\\ni feel that when people do stuff for the community, they care and that they know that taking the time out of their day to help those who need it, then going to the nails store and getting your precious nails done. As for right now i am on board with people taking little time out of there day and helping the public community it would give them the best of them and help thousands.\\n\\nNow with that being said, kids and adults should take time off from sports, friends, and other activities that they can take off 10-20 minutes of their time to do a great cause, and help many just for 10-20 minutes its not that long. examples of doing community service is going around and cleaning up scrapes of trash that kids left behind and didn't pick up, or you could donate money to a homeless shelter that would impact a lot, you could do a lot of things and impact a bunch of people and impact the environment.\",\n",
       "       \"Generic_Name\\n\\nMr. Generic_Name\\n\\nEnglish 8 Honors\\n\\nMarch 11, 2020\\n\\nSeeking Multiple Opinions on a Problem\\n\\nHave you ever had a problem where you sought advise from someone else? When people have a problem often times they will ask multiple people to help them make the best choice. Asking multiple people about a problem allows you to hear multiple perspectives, since different people have had different life experiences. Usually when you are involved in a difficult situation your judgment might be clouded, asking someone outside of the issue gives you an unbiased answer. The people close to you have your best interests at heart, so when you ask them for help they are going to offer good advise. Everyone gets into situations where they do not know what to do, so when they get into those situations, they should ask the advise from multiple people around them.\\n\\nDifferent people have been through many different things, so when you ask multiple people for advise they can offer different views and opinions. A new outlook on a problem might be just what you need to figure out the answer. For example, if you were trying to decide whether or not to get a pet, asking someone who has pets or works with animals, would give different advise and opinions than someone who doesn't like animals. Multiple opinions give us multiple ways to look at a problem, giving us multiple ways to solve that problem. Asking the opinions of multiple people, who have different things to offer, lets you look at a situation in a new way.\\n\\nIf you are involved in a problem that means a lot to you, the stress and intensity of the issue can cloud your judgment. Trying to solve a problem when you can't think straight\\xa0sets you up for making a poor choice, that's why you should ask people who are not involved. People who aren't involved with the problem you are dealing with can offer opinions that you could not think of before. When couples are having a hard time and can't work it out, they sometimes go to a couples therapist, the therapist can offer them help and advise the couple couldn't have found on their own. Being part of a fight or arguments can make people want to act without thinking, that is why asking the opinions of people who are not involved can give you an unbiased opinion.\\n\\nYour friends and family want you to be happy, because they have your best interests at heart. The people you surround yourself with care about you and want you to make good choices. When you ask loved ones their advise you know their response is genuine, and it's what they think will help you be the pest person possible. If you are having a hard time or just need help with something, family and friends will be there to give you advise that a stranger could never offer, because your loved ones know you. Asking family and friends their opinion on a problem will allow you to make the best choice, because the people you choose to surround yourself with only want you to be happy.\\n\\nEveryone gets into problems or situations they can't face on their own, that's why asking for advise from others will give you the tools needed to make the best possible choice. Asking the advice of multiple people makes it possible for you to get the perspectives of multiple people, and those perspectives will all come with their own advise to help you. Being a part of something that matters you can make you act rash or make decisions you would always make, that's why you should ask people who are unbiased, because they will give opinions that are genuine. The people around you, who care about you, will always give you advise and opinions to help you because they know and care about you. Asking for opinions from others is something everyone does, it helps us make more informed decisions and choices about our lives.\"],\n",
       "      dtype=object)"
      ]
     },
     "execution_count": 47,
     "metadata": {},
     "output_type": "execute_result"
    }
   ],
   "source": [
    "texts"
   ]
  },
  {
   "cell_type": "code",
   "execution_count": 49,
   "id": "d0a0c95c",
   "metadata": {},
   "outputs": [
    {
     "data": {
      "text/plain": [
       "41876"
      ]
     },
     "execution_count": 49,
     "metadata": {},
     "output_type": "execute_result"
    }
   ],
   "source": [
    "len(labels)"
   ]
  },
  {
   "cell_type": "code",
   "execution_count": 50,
   "id": "4080747b",
   "metadata": {},
   "outputs": [],
   "source": [
    "# from transformers import get_linear_schedule_with_warmup\n",
    "from torch.optim.lr_scheduler import StepLR"
   ]
  },
  {
   "cell_type": "code",
   "execution_count": null,
   "id": "2523aecb",
   "metadata": {},
   "outputs": [],
   "source": [
    "model = MyModelClass()\n",
    "model.prepare_data(texts, labels)  # Assuming train_texts and train_labels are defined\n",
    "model.train()"
   ]
  },
  {
   "cell_type": "code",
   "execution_count": 21,
   "id": "ec18da42",
   "metadata": {},
   "outputs": [
    {
     "name": "stdout",
     "output_type": "stream",
     "text": [
      "Model saved to eng_model.pth\n"
     ]
    }
   ],
   "source": [
    "model.save_model(path='english_model_40k.pth')"
   ]
  },
  {
   "cell_type": "code",
   "execution_count": null,
   "id": "b615d3aa",
   "metadata": {},
   "outputs": [],
   "source": []
  },
  {
   "cell_type": "code",
   "execution_count": null,
   "id": "af714d27",
   "metadata": {},
   "outputs": [],
   "source": []
  },
  {
   "cell_type": "code",
   "execution_count": null,
   "id": "a3b02df0",
   "metadata": {},
   "outputs": [],
   "source": []
  }
 ],
 "metadata": {
  "kernelspec": {
   "display_name": "Python 3 (ipykernel)",
   "language": "python",
   "name": "python3"
  },
  "language_info": {
   "codemirror_mode": {
    "name": "ipython",
    "version": 3
   },
   "file_extension": ".py",
   "mimetype": "text/x-python",
   "name": "python",
   "nbconvert_exporter": "python",
   "pygments_lexer": "ipython3",
   "version": "3.10.13"
  }
 },
 "nbformat": 4,
 "nbformat_minor": 5
}
